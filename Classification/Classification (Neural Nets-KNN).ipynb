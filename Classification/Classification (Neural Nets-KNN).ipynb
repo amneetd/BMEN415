{
 "cells": [
  {
   "cell_type": "code",
   "execution_count": 7,
   "id": "a4e2afee-9977-484d-acfe-2bf1ad1fdc30",
   "metadata": {},
   "outputs": [
    {
     "name": "stderr",
     "output_type": "stream",
     "text": [
      "/Users/megan.lee/opt/anaconda3/lib/python3.8/site-packages/sklearn/neighbors/_classification.py:179: DataConversionWarning: A column-vector y was passed when a 1d array was expected. Please change the shape of y to (n_samples,), for example using ravel().\n",
      "  return self._fit(X, y)\n",
      "/Users/megan.lee/opt/anaconda3/lib/python3.8/site-packages/sklearn/neighbors/_classification.py:179: DataConversionWarning: A column-vector y was passed when a 1d array was expected. Please change the shape of y to (n_samples,), for example using ravel().\n",
      "  return self._fit(X, y)\n",
      "/Users/megan.lee/opt/anaconda3/lib/python3.8/site-packages/sklearn/neighbors/_classification.py:179: DataConversionWarning: A column-vector y was passed when a 1d array was expected. Please change the shape of y to (n_samples,), for example using ravel().\n",
      "  return self._fit(X, y)\n",
      "/Users/megan.lee/opt/anaconda3/lib/python3.8/site-packages/sklearn/neighbors/_classification.py:179: DataConversionWarning: A column-vector y was passed when a 1d array was expected. Please change the shape of y to (n_samples,), for example using ravel().\n",
      "  return self._fit(X, y)\n",
      "/Users/megan.lee/opt/anaconda3/lib/python3.8/site-packages/sklearn/neighbors/_classification.py:179: DataConversionWarning: A column-vector y was passed when a 1d array was expected. Please change the shape of y to (n_samples,), for example using ravel().\n",
      "  return self._fit(X, y)\n",
      "/Users/megan.lee/opt/anaconda3/lib/python3.8/site-packages/sklearn/neighbors/_classification.py:179: DataConversionWarning: A column-vector y was passed when a 1d array was expected. Please change the shape of y to (n_samples,), for example using ravel().\n",
      "  return self._fit(X, y)\n",
      "/Users/megan.lee/opt/anaconda3/lib/python3.8/site-packages/sklearn/neighbors/_classification.py:179: DataConversionWarning: A column-vector y was passed when a 1d array was expected. Please change the shape of y to (n_samples,), for example using ravel().\n",
      "  return self._fit(X, y)\n",
      "/Users/megan.lee/opt/anaconda3/lib/python3.8/site-packages/sklearn/neighbors/_classification.py:179: DataConversionWarning: A column-vector y was passed when a 1d array was expected. Please change the shape of y to (n_samples,), for example using ravel().\n",
      "  return self._fit(X, y)\n",
      "/Users/megan.lee/opt/anaconda3/lib/python3.8/site-packages/sklearn/neighbors/_classification.py:179: DataConversionWarning: A column-vector y was passed when a 1d array was expected. Please change the shape of y to (n_samples,), for example using ravel().\n",
      "  return self._fit(X, y)\n",
      "/Users/megan.lee/opt/anaconda3/lib/python3.8/site-packages/sklearn/neighbors/_classification.py:179: DataConversionWarning: A column-vector y was passed when a 1d array was expected. Please change the shape of y to (n_samples,), for example using ravel().\n",
      "  return self._fit(X, y)\n"
     ]
    },
    {
     "name": "stdout",
     "output_type": "stream",
     "text": [
      "\n",
      "Cross-Validation Scores: [0.43859649 0.21052632 0.14035088 0.0877193  0.12280702 0.22807018\n",
      " 0.22807018 0.1754386  0.36842105 0.625     ]\n",
      "\n",
      "Average Cross-Validation Score: 0.2625\n",
      "F1 score: 0.5148514851485149\n",
      "Recall: 0.4126984126984127\n",
      "Precision: 0.6842105263157895\n",
      "AUC: 0.6507936507936507\n",
      "Balanced accuracy: 0.6507936507936507\n"
     ]
    },
    {
     "data": {
      "image/png": "[encoded data removed]",
      "text/plain": [
       "<Figure size 432x288 with 2 Axes>"
      ]
     },
     "metadata": {
      "needs_background": "light"
     },
     "output_type": "display_data"
    },
    {
     "data": {
      "image/png": "[encoded data removed]",
      "text/plain": [
       "<Figure size 432x288 with 1 Axes>"
      ]
     },
     "metadata": {
      "needs_background": "light"
     },
     "output_type": "display_data"
    }
   ],
   "source": [
    "import pandas as pd\n",
    "import matplotlib.pyplot as plt\n",
    "from sklearn.model_selection import train_test_split\n",
    "from sklearn.neighbors import KNeighborsClassifier\n",
    "from sklearn.metrics import f1_score, confusion_matrix, plot_confusion_matrix, plot_roc_curve, recall_score, precision_score, roc_auc_score, balanced_accuracy_score\n",
    "from sklearn.model_selection import cross_val_score\n",
    "\n",
    "# Load data from the CSV file\n",
    "data = pd.read_csv('breast-cancer.csv')\n",
    "\n",
    "# Separating features and target variable\n",
    "X = data.drop(['diagnosis'], axis=1).values\n",
    "y = data['diagnosis'].map({'M': 1, 'B': 0}).values.reshape(-1, 1) # convert to 0 and 1 labels\n",
    "\n",
    "# Split data into training and testing sets\n",
    "X_train, X_test, y_train, y_test = train_test_split(X, y, test_size=0.3, random_state=42)\n",
    "\n",
    "# Create a K-Nearest Neighbors classifier\n",
    "model = KNeighborsClassifier(n_neighbors=5)\n",
    "\n",
    "k = 10\n",
    "cv_scores = cross_val_score(model, X, y, cv=k)\n",
    "\n",
    "# Train the model on the training data\n",
    "model.fit(X_train, y_train.ravel())\n",
    "\n",
    "# Predict the target values for the test data\n",
    "y_pred = model.predict(X_test)\n",
    "\n",
    "# Output for Cross Validation \n",
    "print(\"\\nCross-Validation Scores:\", cv_scores)\n",
    "print(\"\\nAverage Cross-Validation Score:\", cv_scores.mean())\n",
    "\n",
    "# Outputs of the performance metrics\n",
    "print(\"F1 score:\", float(f1_score(y_test, y_pred)))\n",
    "print(\"Recall:\", float(recall_score(y_test, y_pred)))\n",
    "print(\"Precision:\", float(precision_score(y_test, y_pred)))\n",
    "print(\"AUC:\", float(roc_auc_score(y_test, y_pred)))\n",
    "print(\"Balanced accuracy:\", float(balanced_accuracy_score(y_test, y_pred)))\n",
    "\n",
    "\n",
    "# Confusion matrix\n",
    "plot_confusion_matrix(model, X_test, y_test, display_labels=['Benign', 'Malignant'], cmap=plt.cm.Blues)\n",
    "plt.show()\n",
    "\n",
    "# ROC curve\n",
    "plot_roc_curve(model, X_test, y_test)\n",
    "plt.show()"
   ]
  },
  {
   "cell_type": "code",
   "execution_count": 2,
   "id": "e8e64b44",
   "metadata": {},
   "outputs": [
    {
     "name": "stdout",
     "output_type": "stream",
     "text": [
      "import pandas as pd\n",
      "import matplotlib.pyplot as plt\n",
      "from sklearn.model_selection import train_test_split\n",
      "from sklearn.neighbors import KNeighborsClassifier\n",
      "from sklearn.metrics import accuracy_score, f1_score, confusion_matrix, plot_confusion_matrix, roc_auc_score, roc_curve\n",
      "\n",
      "# Load data from CSV file\n",
      "data = pd.read_csv('breast-cancer.csv')\n",
      "\n",
      "# Separate features and target variable\n",
      "X = data.drop(['diagnosis'], axis=1).values\n",
      "y = data['diagnosis'].map({'M': 1, 'B': 0}).values.reshape(-1, 1) # convert to 0 and 1 labels\n",
      "\n",
      "# Split data into training and testing sets\n",
      "X_train, X_test, y_train, y_test = train_test_split(X, y, test_size=0.3, random_state=42)\n",
      "\n",
      "# Create a K-Nearest Neighbors classifier\n",
      "model = KNeighborsClassifier(n_neighbors=5)\n",
      "\n",
      "# Train the model on the training data\n",
      "model.fit(X_train, y_train.ravel())\n",
      "\n",
      "# Predict the target values for the test data\n",
      "y_pred = model.predict(X_test)\n",
      "\n",
      "# Print the accuracy, F1 score, and confusion matrix of the classifier\n",
      "print(\"Accuracy:\", accuracy_score(y_test, y_pred))\n",
      "print(\"F1 score:\", f1_score(y_test, y_pred))\n",
      "print(\"Confusion matrix:\")\n",
      "plot_confusion_matrix(model, X_test, y_test, display_labels=['Benign', 'Malignant'], cmap=plt.cm.Blues)\n",
      "plt.show()\n",
      "\n",
      "# Plot ROC curve\n",
      "y_pred_proba = model.predict_proba(X_test)[:, 1]\n",
      "print(\"ROC AUC score:\", roc_auc_score(y_test, y_pred_proba))\n",
      "fpr, tpr, _ = roc_curve(y_test, y_pred_proba)\n",
      "plt.plot(fpr, tpr)\n",
      "plt.xlabel('False Positive Rate')\n",
      "plt.ylabel('True Positive Rate')\n",
      "plt.show()\n",
      "%history\n"
     ]
    }
   ],
   "source": []
  },
  {
   "cell_type": "code",
   "execution_count": null,
   "id": "e506d736-772f-4329-83ab-febe71727b80",
   "metadata": {},
   "outputs": [],
   "source": []
  }
 ],
 "metadata": {
  "kernelspec": {
   "display_name": "Python 3",
   "language": "python",
   "name": "python3"
  },
  "language_info": {
   "codemirror_mode": {
    "name": "ipython",
    "version": 3
   },
   "file_extension": ".py",
   "mimetype": "text/x-python",
   "name": "python",
   "nbconvert_exporter": "python",
   "pygments_lexer": "ipython3",
   "version": "3.8.8"
  }
 },
 "nbformat": 4,
 "nbformat_minor": 5
}
