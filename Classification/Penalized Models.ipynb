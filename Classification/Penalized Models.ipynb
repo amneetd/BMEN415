{
 "cells": [
  {
   "cell_type": "code",
   "execution_count": 11,
   "metadata": {},
   "outputs": [
    {
     "name": "stdout",
     "output_type": "stream",
     "text": [
      "\n",
      "Accuracy: 0.9649122807017544\n",
      "\n",
      "Confusion Matrix:\n",
      " [[39  1]\n",
      " [ 1 16]]\n",
      "\n",
      "Classification Report:\n",
      "               precision    recall  f1-score   support\n",
      "\n",
      "           0       0.97      0.97      0.97        40\n",
      "           1       0.94      0.94      0.94        17\n",
      "\n",
      "    accuracy                           0.96        57\n",
      "   macro avg       0.96      0.96      0.96        57\n",
      "weighted avg       0.96      0.96      0.96        57\n",
      "\n",
      "\n",
      "AUC-ROC: 0.9911764705882353\n",
      "\n",
      "F1 Score: 0.9649122807017544\n",
      "\n",
      "Recall: 0.9649122807017544\n",
      "\n",
      "Precision: 0.9649122807017544\n",
      "\n",
      "Balanced Accuracy: 0.9580882352941176\n",
      "\n",
      "Matthews Correlation Coefficient: 0.9161764705882353\n"
     ]
    }
   ],
   "source": [
    "from sklearn.preprocessing import LabelEncoder\n",
    "from sklearn.model_selection import train_test_split\n",
    "from sklearn.svm import LinearSVC\n",
    "from sklearn.pipeline import make_pipeline\n",
    "from sklearn.preprocessing import StandardScaler\n",
    "from sklearn.metrics import (accuracy_score, confusion_matrix, classification_report, roc_auc_score, f1_score,\n",
    "                             recall_score, precision_score, balanced_accuracy_score, matthews_corrcoef)\n",
    "\n",
    "# Encoding the target variable\n",
    "le = LabelEncoder()\n",
    "y = le.fit_transform(y)\n",
    "\n",
    "# Split the dataset into training and testing sets\n",
    "X_train, X_test, y_train, y_test = train_test_split(X, y, test_size=0.1, random_state=42)\n",
    "\n",
    "# Create the penalized SVM classifier with L2 penalty\n",
    "classifier = make_pipeline(StandardScaler(), LinearSVC(penalty='l2', dual=False, random_state=42))\n",
    "\n",
    "# Train the classifier using the training data\n",
    "classifier.fit(X_train, y_train)\n",
    "\n",
    "# Make predictions on the test data\n",
    "y_pred = classifier.predict(X_test)\n",
    "\n",
    "# Evaluate the model\n",
    "accuracy = accuracy_score(y_test, y_pred)\n",
    "conf_matrix = confusion_matrix(y_test, y_pred)\n",
    "class_report = classification_report(y_test, y_pred)\n",
    "\n",
    "# Since LinearSVC does not have the 'predict_proba' method, we cannot calculate AUC-ROC directly\n",
    "# We can use the decision function to get the distance from the decision boundary\n",
    "y_decision_function = classifier.decision_function(X_test)\n",
    "auc_roc = roc_auc_score(y_test, y_decision_function)\n",
    "\n",
    "f1 = f1_score(y_test, y_pred, average=\"weighted\")\n",
    "recall = recall_score(y_test, y_pred, average=\"weighted\")\n",
    "precision = precision_score(y_test, y_pred, average=\"weighted\")\n",
    "balanced_accuracy = balanced_accuracy_score(y_test, y_pred)\n",
    "matthews_corr = matthews_corrcoef(y_test, y_pred)\n",
    "\n",
    "# Print the results\n",
    "print(\"\\nAccuracy:\", accuracy)\n",
    "print(\"\\nConfusion Matrix:\\n\", conf_matrix)\n",
    "print(\"\\nClassification Report:\\n\", class_report)\n",
    "print(\"\\nAUC-ROC:\", auc_roc)\n",
    "print(\"\\nF1 Score:\", f1)\n",
    "print(\"\\nRecall:\", recall)\n",
    "print(\"\\nPrecision:\", precision)\n",
    "print(\"\\nBalanced Accuracy:\", balanced_accuracy)\n",
    "print(\"\\nMatthews Correlation Coefficient:\", matthews_corr)\n"
   ]
  },
  {
   "cell_type": "code",
   "execution_count": null,
   "metadata": {},
   "outputs": [],
   "source": []
  }
 ],
 "metadata": {
  "kernelspec": {
   "display_name": "Python 3",
   "language": "python",
   "name": "python3"
  },
  "language_info": {
   "codemirror_mode": {
    "name": "ipython",
    "version": 3
   },
   "file_extension": ".py",
   "mimetype": "text/x-python",
   "name": "python",
   "nbconvert_exporter": "python",
   "pygments_lexer": "ipython3",
   "version": "3.8.5"
  }
 },
 "nbformat": 4,
 "nbformat_minor": 4
}
