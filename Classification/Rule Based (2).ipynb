{
 "cells": [
  {
   "cell_type": "code",
   "execution_count": 2,
   "metadata": {},
   "outputs": [
    {
     "ename": "ImportError",
     "evalue": "cannot import name 'aucroc_curve' from 'sklearn.metrics' (/Users/alyssajames/opt/anaconda3/lib/python3.8/site-packages/sklearn/metrics/__init__.py)",
     "output_type": "error",
     "traceback": [
      "\u001b[0;31m---------------------------------------------------------------------------\u001b[0m",
      "\u001b[0;31mImportError\u001b[0m                               Traceback (most recent call last)",
      "\u001b[0;32m<ipython-input-2-93cfcce12744>\u001b[0m in \u001b[0;36m<module>\u001b[0;34m\u001b[0m\n\u001b[1;32m      3\u001b[0m \u001b[0;32mfrom\u001b[0m \u001b[0msklearn\u001b[0m\u001b[0;34m.\u001b[0m\u001b[0mpreprocessing\u001b[0m \u001b[0;32mimport\u001b[0m \u001b[0mLabelEncoder\u001b[0m\u001b[0;34m\u001b[0m\u001b[0;34m\u001b[0m\u001b[0m\n\u001b[1;32m      4\u001b[0m \u001b[0;32mfrom\u001b[0m \u001b[0msklearn\u001b[0m\u001b[0;34m.\u001b[0m\u001b[0mtree\u001b[0m \u001b[0;32mimport\u001b[0m \u001b[0mDecisionTreeClassifier\u001b[0m\u001b[0;34m\u001b[0m\u001b[0;34m\u001b[0m\u001b[0m\n\u001b[0;32m----> 5\u001b[0;31m from sklearn.metrics import (accuracy_score, confusion_matrix, classification_report, roc_auc_score, f1_score,\n\u001b[0m\u001b[1;32m      6\u001b[0m                              recall_score, precision_score, balanced_accuracy_score, roc_curve, aucroc_curve, auc, plot_confusion_matrix)\n\u001b[1;32m      7\u001b[0m \u001b[0;31m# Load data from CSV file\u001b[0m\u001b[0;34m\u001b[0m\u001b[0;34m\u001b[0m\u001b[0;34m\u001b[0m\u001b[0m\n",
      "\u001b[0;31mImportError\u001b[0m: cannot import name 'aucroc_curve' from 'sklearn.metrics' (/Users/alyssajames/opt/anaconda3/lib/python3.8/site-packages/sklearn/metrics/__init__.py)"
     ]
    }
   ],
   "source": [
    "import pandas as pd\n",
    "from sklearn.model_selection import train_test_split, cross_val_score\n",
    "from sklearn.preprocessing import LabelEncoder\n",
    "from sklearn.tree import DecisionTreeClassifier\n",
    "from sklearn.metrics import (accuracy_score, confusion_matrix, classification_report, roc_auc_score, f1_score,\n",
    "                             recall_score, precision_score, balanced_accuracy_score, roc_curve, aucroc_curve, auc, plot_confusion_matrix)\n",
    "# Load data from CSV file\n",
    "data = pd.read_csv(\"/Users/alyssajames/BMEN415/Classification Models/breast-cancer.csv\")\n",
    "\n",
    "# Fill missing values with the mean of the respective column\n",
    "data = data.fillna(data.mean())\n",
    "\n",
    "# Define the features and target variables\n",
    "X = data.drop('diagnosis', axis=1)\n",
    "y = data['diagnosis']\n",
    "\n",
    "# Create the Decision Tree classifier\n",
    "classifier = DecisionTreeClassifier(random_state=42)\n",
    "\n",
    "# Add k-fold cross-validation\n",
    "k = 10\n",
    "cv_scores = cross_val_score(classifier, X, y, cv=k)\n",
    "\n",
    "# Split the dataset into training and testing sets\n",
    "X_train, X_test, y_train, y_test = train_test_split(X, y, test_size=0.3, random_state=42)\n",
    "\n",
    "# Train the classifier using the training data\n",
    "classifier.fit(X_train, y_train)\n",
    "\n",
    "# Make predictions on the test data\n",
    "y_pred = classifier.predict(X_test)\n",
    "\n",
    "# Get predicted probabilities for the positive class\n",
    "y_pred_proba = classifier.predict_proba(X_test)[:, 1]\n",
    "\n",
    "# Evaluate the model\n",
    "accuracy = accuracy_score(y_test, y_pred)\n",
    "conf_matrix = confusion_matrix(y_test, y_pred)\n",
    "class_report = classification_report(y_test, y_pred)\n",
    "auc_roc = roc_auc_score(y_test, y_pred_proba)\n",
    "f1 = f1_score(y_test, y_pred, average=\"weighted\")\n",
    "recall = recall_score(y_test, y_pred, average=\"weighted\")\n",
    "precision = precision_score(y_test, y_pred, average=\"weighted\")\n",
    "balanced_accuracy = balanced_accuracy_score(y_test, y_pred)\n",
    "\n",
    "\n",
    "# Print the results\n",
    "print(\"\\nCross-Validation Scores:\", cv_scores)\n",
    "print(\"\\nAverage Cross-Validation Score:\", cv_scores.mean())\n",
    "print(\"\\nAccuracy:\", accuracy)\n",
    "print(\"\\nConfusion Matrix:\\n\", conf_matrix)\n",
    "print(\"\\nClassification Report:\\n\", class_report)\n",
    "print(\"\\nAUC-ROC:\", auc_roc)\n",
    "print(\"\\nF1 Score:\", f1)\n",
    "print(\"\\nRecall:\", recall)\n",
    "print(\"\\nPrecision:\", precision)\n",
    "print(\"\\nBalanced Accuracy:\", balanced_accuracy)\n",
    "\n",
    "print(\"Confusion matrix:\")\n",
    "plot_confusion_matrix(classifier, X_test_scaled, y_test, display_labels=['Benign', 'Malignant'], cmap=plt.cm.Blues)\n",
    "plt.show()\n",
    "\n",
    "# Plot ROC curve\n",
    "plot_roc_curve(classifier, X_test_scaled, y_test)\n",
    "plt.show()"
   ]
  },
  {
   "cell_type": "code",
   "execution_count": null,
   "metadata": {},
   "outputs": [],
   "source": []
  }
 ],
 "metadata": {
  "kernelspec": {
   "display_name": "Python 3",
   "language": "python",
   "name": "python3"
  },
  "language_info": {
   "codemirror_mode": {
    "name": "ipython",
    "version": 3
   },
   "file_extension": ".py",
   "mimetype": "text/x-python",
   "name": "python",
   "nbconvert_exporter": "python",
   "pygments_lexer": "ipython3",
   "version": "3.8.5"
  }
 },
 "nbformat": 4,
 "nbformat_minor": 4
}
