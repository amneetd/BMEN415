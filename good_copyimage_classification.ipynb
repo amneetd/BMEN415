{
 "cells": [
  {
   "cell_type": "code",
   "execution_count": 12,
   "id": "0faad807-a471-44b9-8eda-f1ba1e41546c",
   "metadata": {},
   "outputs": [],
   "source": [
    "# Importing the cv2 module\n",
    "#import cv2\n",
    "#import os\n",
    "import seaborn as sns\n",
    "from tensorflow.keras.initializers import RandomNormal\n",
    "from keras.utils import np_utils\n",
    "\n",
    "from tensorflow import keras\n",
    "from tensorflow.keras import layers\n",
    "\n",
    "%matplotlib notebook\n",
    "import matplotlib.pyplot as plt\n",
    "import numpy as np\n",
    "import time\n",
    "\n",
    "from keras.layers import Activation, Dense\n",
    "from keras.models import Sequential \n",
    "\n",
    "import os\n",
    "import PIL\n",
    "import numpy as np\n",
    "import glob\n",
    "import cv2\n"
   ]
  },
  {
   "cell_type": "code",
   "execution_count": 13,
   "id": "cb06e7ff-e5df-4758-b265-69831855e524",
   "metadata": {},
   "outputs": [
    {
     "name": "stdout",
     "output_type": "stream",
     "text": [
      "Number of training examples:  2457 and the image is of the shape (450)\n"
     ]
    }
   ],
   "source": [
    "# download the data into two instances, training data and testing data\n",
    "\n",
    "#train_path = '/Users/megan.lee/Downloads/validatesmall'\n",
    "#test_path = '/Users/megan.lee/Downloads/validatesmall'\n",
    "\n",
    "# create lists to store the data in once split into the images (X) and classification (y)\n",
    "x_test = []\n",
    "X_train = []\n",
    "y_train = []\n",
    "y_test = []\n",
    "\n",
    "\n",
    "training_images_path='/Users/huzaifashafiq/Desktop/data/C-NMC_Leukemia/training_data/fold_2/all'\n",
    "training_images_list=glob.glob(os.path.join(training_images_path,'*.bmp'))\n",
    "# print(training_images_list)\n",
    "\n",
    "for image in training_images_list:\n",
    "    loaded_image = cv2.imread(image)#, cv2.IMREAD_GRAYSCALE)\n",
    "    \n",
    "    X_train.append(loaded_image)\n",
    "    if image == 'NORMAL':\n",
    "        y_train.append(0)\n",
    "    else: \n",
    "        y_train.append(1)\n",
    "\n",
    "training_images_path='/Users/huzaifashafiq/Desktop/data/C-NMC_Leukemia/training_data/fold_2/hem'\n",
    "training_images_list=glob.glob(os.path.join(training_images_path,'*.bmp'))\n",
    "# print(training_images_list)\n",
    "\n",
    "for image in training_images_list:\n",
    "    loaded_image = cv2.imread(image)#, cv2.IMREAD_GRAYSCALE)\n",
    "    \n",
    "    x_test.append(loaded_image)\n",
    "    if image == 'NORMAL':\n",
    "        y_test.append(0)\n",
    "    else: \n",
    "        y_test.append(1)\n",
    "    \n",
    "\n",
    "        \n",
    "X_train = np.array(X_train)\n",
    "x_test = np.array(x_test)\n",
    "y_train = np.array(y_train)\n",
    "y_test = np.array(y_test)\n",
    "\n",
    "print(\"Number of training examples: \", X_train.shape[0],\n",
    "     \"and the image is of the shape (%d)\"%(X_train.shape[1]))"
   ]
  },
  {
   "cell_type": "code",
   "execution_count": 14,
   "id": "affcf4e4-10f2-4e21-abfa-fb2f611ee823",
   "metadata": {},
   "outputs": [],
   "source": [
    "# convert to smaller float types \n",
    "X_train = X_train.astype(\"float32\")/255\n",
    "x_test = x_test.astype(\"float32\")/255"
   ]
  },
  {
   "cell_type": "code",
   "execution_count": 15,
   "id": "48efee31-31ff-40c6-a3e5-904cac0f91b3",
   "metadata": {},
   "outputs": [
    {
     "name": "stdout",
     "output_type": "stream",
     "text": [
      "(2457, 2)\n",
      "(1096, 2)\n"
     ]
    }
   ],
   "source": [
    "num_classes = 2\n",
    "input_shape = (450,450,3)\n",
    "\n",
    "# convert class vectors to binary class matrices\n",
    "y_train = keras.utils.to_categorical(y_train, num_classes)\n",
    "print(y_train.shape)\n",
    "y_test = keras.utils.to_categorical(y_test, num_classes)\n",
    "print(y_test.shape)"
   ]
  },
  {
   "cell_type": "code",
   "execution_count": 16,
   "id": "6752d36e-f147-43f0-bc8d-9579efd8296b",
   "metadata": {},
   "outputs": [],
   "source": [
    "# train the model \n",
    "model = keras.Sequential(\n",
    "    [\n",
    "        keras.Input(shape=input_shape),\n",
    "        layers.Conv2D(32, kernel_size=(3, 3), activation=\"relu\"),\n",
    "        layers.MaxPooling2D(pool_size=(2, 2)),\n",
    "        layers.Conv2D(64, kernel_size=(3, 3), activation=\"relu\"),\n",
    "        layers.MaxPooling2D(pool_size=(2, 2)),\n",
    "        layers.Flatten(),\n",
    "        layers.Dropout(0.5),\n",
    "        layers.Dense(num_classes, activation=\"softmax\"),\n",
    "    ]\n",
    ")\n",
    "\n",
    "#model.summary()"
   ]
  },
  {
   "cell_type": "code",
   "execution_count": 17,
   "id": "dc4c60ec-0897-4a13-a244-58367855aa8c",
   "metadata": {},
   "outputs": [
    {
     "name": "stdout",
     "output_type": "stream",
     "text": [
      "Epoch 1/10\n",
      "18/18 [==============================] - 407s 23s/step - loss: 0.0400 - val_loss: 0.0000e+00\n",
      "Epoch 2/10\n",
      "18/18 [==============================] - 419s 23s/step - loss: 0.0000e+00 - val_loss: 0.0000e+00\n",
      "Epoch 3/10\n",
      "18/18 [==============================] - 427s 24s/step - loss: 0.0000e+00 - val_loss: 0.0000e+00\n",
      "Epoch 4/10\n",
      "18/18 [==============================] - 422s 23s/step - loss: 0.0000e+00 - val_loss: 0.0000e+00\n",
      "Epoch 5/10\n",
      "18/18 [==============================] - 434s 24s/step - loss: 0.0000e+00 - val_loss: 0.0000e+00\n",
      "Epoch 6/10\n",
      "18/18 [==============================] - 429s 24s/step - loss: 0.0000e+00 - val_loss: 0.0000e+00\n",
      "Epoch 7/10\n",
      "18/18 [==============================] - 441s 25s/step - loss: 0.0000e+00 - val_loss: 0.0000e+00\n",
      "Epoch 8/10\n",
      "18/18 [==============================] - 431s 24s/step - loss: 0.0000e+00 - val_loss: 0.0000e+00\n",
      "Epoch 9/10\n",
      "18/18 [==============================] - 437s 24s/step - loss: 0.0000e+00 - val_loss: 0.0000e+00\n",
      "Epoch 10/10\n",
      "18/18 [==============================] - 437s 24s/step - loss: 0.0000e+00 - val_loss: 0.0000e+00\n"
     ]
    },
    {
     "data": {
      "text/plain": [
       "<keras.callbacks.History at 0x1110abd30>"
      ]
     },
     "execution_count": 17,
     "metadata": {},
     "output_type": "execute_result"
    }
   ],
   "source": [
    "model.compile(optimizer=\"adam\", loss=\"categorical_crossentropy\")#, metrics=[\"accuracy\"])\n",
    "\n",
    "model.fit(X_train, y_train, validation_split=0.1, batch_size=128, epochs=10)"
   ]
  },
  {
   "cell_type": "code",
   "execution_count": 18,
   "id": "9d44df0d-22a9-4570-b71c-f1bdd42ac0e6",
   "metadata": {},
   "outputs": [
    {
     "name": "stdout",
     "output_type": "stream",
     "text": [
      "Test loss: 0.0\n",
      "Test accuracy: 0.0\n"
     ]
    }
   ],
   "source": [
    "score = model.evaluate(x_test, y_test, verbose=0)\n",
    "print(\"Test loss:\", score)\n",
    "print(\"Test accuracy:\", score)"
   ]
  },
  {
   "cell_type": "code",
   "execution_count": null,
   "id": "d269ed30-1be0-475f-b9d9-7d046c496d9f",
   "metadata": {},
   "outputs": [],
   "source": []
  },
  {
   "cell_type": "code",
   "execution_count": null,
   "id": "9d402a04-50ec-4cf1-9432-54bac9ba6323",
   "metadata": {},
   "outputs": [],
   "source": []
  }
 ],
 "metadata": {
  "kernelspec": {
   "display_name": "Python [conda env:BMEN] *",
   "language": "python",
   "name": "conda-env-BMEN-py"
  },
  "language_info": {
   "codemirror_mode": {
    "name": "ipython",
    "version": 3
   },
   "file_extension": ".py",
   "mimetype": "text/x-python",
   "name": "python",
   "nbconvert_exporter": "python",
   "pygments_lexer": "ipython3",
   "version": "3.8.16"
  }
 },
 "nbformat": 4,
 "nbformat_minor": 5
}
