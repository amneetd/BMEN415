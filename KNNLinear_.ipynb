{
 "cells": [
  {
   "cell_type": "code",
   "execution_count": 7,
   "id": "ab94a642-021f-45d0-810e-aceded2fe06f",
   "metadata": {},
   "outputs": [
    {
     "name": "stdout",
     "output_type": "stream",
     "text": [
      "KNN MSE: 6330.599344262295\n",
      "KNN Accuracy: 0.8360655737704918\n",
      "KNN F1 Score: 0.8299319727891157\n",
      "KNN Confusion Matrix:\n",
      "[[266  30]\n",
      " [ 70 244]]\n"
     ]
    }
   ],
   "source": [
    "import numpy as np\n",
    "import pandas as pd\n",
    "from sklearn.linear_model import LinearRegression\n",
    "from sklearn.neighbors import KNeighborsRegressor\n",
    "from sklearn.model_selection import train_test_split\n",
    "from sklearn.metrics import mean_squared_error, accuracy_score, f1_score, confusion_matrix\n",
    "from sklearn.preprocessing import LabelEncoder\n",
    "\n",
    "# Load the dataset\n",
    "df = pd.read_csv('cancer_reg_updated.csv')\n",
    "\n",
    "# Replace missing values with the mean value of the column\n",
    "df.fillna(df.mean(), inplace=True)\n",
    "\n",
    "# Encode the categorical variable 'State'\n",
    "le = LabelEncoder()\n",
    "df['avgDeathsPerYear'] = le.fit_transform(df['avgDeathsPerYear'])\n",
    "\n",
    "# Separate the features and target variable\n",
    "X = df.drop('avgDeathsPerYear', axis=1)\n",
    "y = df['avgDeathsPerYear']\n",
    "\n",
    "# Split the dataset into training and testing sets\n",
    "X_train, X_test, y_train, y_test = train_test_split(X, y, test_size=0.2, random_state=42)\n",
    "\n",
    "# Create and fit the KNN model\n",
    "knn = KNeighborsRegressor(n_neighbors=5)\n",
    "knn.fit(X_train, y_train)\n",
    "\n",
    "# Make predictions on the test set and calculate the mean squared error\n",
    "knn_predictions = knn.predict(X_test)\n",
    "knn_mse = mean_squared_error(y_test, knn_predictions)\n",
    "print('KNN MSE:', knn_mse)\n",
    "\n",
    "# Calculate the median value of the target variable\n",
    "median = y.median()\n",
    "\n",
    "# Create a binary classification target variable based on whether the TARGET_deathRate is above or below the median\n",
    "y_binary = (y > median).astype(int)\n",
    "y_train_binary = (y_train > median).astype(int)\n",
    "y_test_binary = (y_test > median).astype(int)\n",
    "\n",
    "# Create and fit the KNN model\n",
    "knn_binary = KNeighborsClassifier(n_neighbors=5)\n",
    "knn_binary.fit(X_train, y_train_binary)\n",
    "\n",
    "# Make predictions on the test set and calculate the accuracy, F1 score, and confusion matrix\n",
    "knn_binary_predictions = knn_binary.predict(X_test)\n",
    "knn_binary_accuracy = accuracy_score(y_test_binary, knn_binary_predictions)\n",
    "knn_binary_f1 = f1_score(y_test_binary, knn_binary_predictions)\n",
    "knn_binary_cm = confusion_matrix(y_test_binary, knn_binary_predictions)\n",
    "print('KNN Accuracy:', knn_binary_accuracy)\n",
    "print('KNN F1 Score:', knn_binary_f1)\n",
    "print('KNN Confusion Matrix:')\n",
    "print(knn_binary_cm)\n"
   ]
  },
  {
   "cell_type": "code",
   "execution_count": null,
   "id": "8dea6bc7-42d1-45c8-a7c3-ba7c39424206",
   "metadata": {},
   "outputs": [],
   "source": []
  }
 ],
 "metadata": {
  "kernelspec": {
   "display_name": "Python 3 (ipykernel)",
   "language": "python",
   "name": "python3"
  },
  "language_info": {
   "codemirror_mode": {
    "name": "ipython",
    "version": 3
   },
   "file_extension": ".py",
   "mimetype": "text/x-python",
   "name": "python",
   "nbconvert_exporter": "python",
   "pygments_lexer": "ipython3",
   "version": "3.9.12"
  }
 },
 "nbformat": 4,
 "nbformat_minor": 5
}
