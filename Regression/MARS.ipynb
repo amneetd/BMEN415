{
 "cells": [
  {
   "cell_type": "code",
   "execution_count": 7,
   "id": "4dfdda85-9523-40ff-9765-34760eced91b",
   "metadata": {},
   "outputs": [
    {
     "ename": "ModuleNotFoundError",
     "evalue": "No module named 'pyearth'",
     "output_type": "error",
     "traceback": [
      "\u001b[0;31m---------------------------------------------------------------------------\u001b[0m",
      "\u001b[0;31mModuleNotFoundError\u001b[0m                       Traceback (most recent call last)",
      "Cell \u001b[0;32mIn[7], line 6\u001b[0m\n\u001b[1;32m      4\u001b[0m \u001b[38;5;28;01mfrom\u001b[39;00m \u001b[38;5;21;01msklearn\u001b[39;00m\u001b[38;5;21;01m.\u001b[39;00m\u001b[38;5;21;01mmodel_selection\u001b[39;00m \u001b[38;5;28;01mimport\u001b[39;00m train_test_split\n\u001b[1;32m      5\u001b[0m \u001b[38;5;28;01mfrom\u001b[39;00m \u001b[38;5;21;01msklearn\u001b[39;00m\u001b[38;5;21;01m.\u001b[39;00m\u001b[38;5;21;01mmetrics\u001b[39;00m \u001b[38;5;28;01mimport\u001b[39;00m mean_squared_error, mean_absolute_error, r2_score\n\u001b[0;32m----> 6\u001b[0m \u001b[38;5;28;01mfrom\u001b[39;00m \u001b[38;5;21;01mpyearth\u001b[39;00m \u001b[38;5;28;01mimport\u001b[39;00m Earth\n\u001b[1;32m      8\u001b[0m \u001b[38;5;66;03m# Load data from CSV file\u001b[39;00m\n\u001b[1;32m      9\u001b[0m data \u001b[38;5;241m=\u001b[39m pd\u001b[38;5;241m.\u001b[39mread_csv(\u001b[38;5;124m\"\u001b[39m\u001b[38;5;124mcancer_reg_updated.csv\u001b[39m\u001b[38;5;124m\"\u001b[39m)\n",
      "\u001b[0;31mModuleNotFoundError\u001b[0m: No module named 'pyearth'"
     ]
    }
   ],
   "source": [
    "import pandas as pd\n",
    "import numpy as np\n",
    "import matplotlib.pyplot as plt\n",
    "from sklearn.model_selection import train_test_split\n",
    "from sklearn.metrics import mean_squared_error, mean_absolute_error, r2_score\n",
    "from pyearth import Earth\n",
    "\n",
    "# Load data from CSV file\n",
    "data = pd.read_csv(\"cancer_reg_updated.csv\")\n",
    "\n",
    "# Fill missing values with the mean of the respective column\n",
    "data = data.fillna(data.mean())\n",
    "\n",
    "# Separate features and target variable\n",
    "X = data.drop(['avgDeathsPerYear'], axis=1)\n",
    "y = data['avgDeathsPerYear']\n",
    "\n",
    "# Split data into training and testing sets\n",
    "X_train, X_test, y_train, y_test = train_test_split(X, y, test_size=0.3, random_state=42)\n",
    "\n",
    "# Create a MARS model with maximum of 10 terms and regularization parameter of 0.01\n",
    "mars = Earth(max_terms=10, penalty=0.01)\n",
    "\n",
    "# Fit the MARS model to the training data\n",
    "mars.fit(X_train, y_train)\n",
    "\n",
    "# Predict the target values for the test data\n",
    "y_pred = mars.predict(X_test)\n",
    "\n",
    "# Print the mean squared error, root mean squared error, mean absolute error, and R2 score of the MARS model\n",
    "print(\"Mean squared error:\", mean_squared_error(y_test, y_pred))\n",
    "print(\"Root mean squared error:\", np.sqrt(mean_squared_error(y_test, y_pred)))\n",
    "print(\"R2 score:\", r2_score(y_test, y_pred))\n",
    "\n",
    "# Scatterplot for the predicted vs. actual values\n",
    "plt.scatter(y_test, y_pred, color='blue', label='Predicted')\n",
    "plt.scatter(y_test, y_test, color='orange', label='Actual')\n",
    "plt.xlabel('Actual')\n",
    "plt.ylabel('Predicted')\n",
    "plt.title('Predicted vs. Actual Values')\n",
    "plt.legend()\n",
    "plt.show()\n"
   ]
  },
  {
   "cell_type": "code",
   "execution_count": null,
   "id": "5a9096ec-19d8-47ae-8ab5-da3251f134c8",
   "metadata": {},
   "outputs": [],
   "source": []
  },
  {
   "cell_type": "code",
   "execution_count": null,
   "id": "54799d89-ed1f-4f2a-b1d2-1dd8ffe402af",
   "metadata": {},
   "outputs": [],
   "source": []
  }
 ],
 "metadata": {
  "kernelspec": {
   "display_name": "Python [conda env:BMEN] *",
   "language": "python",
   "name": "conda-env-BMEN-py"
  },
  "language_info": {
   "codemirror_mode": {
    "name": "ipython",
    "version": 3
   },
   "file_extension": ".py",
   "mimetype": "text/x-python",
   "name": "python",
   "nbconvert_exporter": "python",
   "pygments_lexer": "ipython3",
   "version": "3.8.16"
  }
 },
 "nbformat": 4,
 "nbformat_minor": 5
}
