{
 "cells": [
  {
   "cell_type": "code",
   "execution_count": 9,
   "id": "ba0ed9c5-0ddf-4404-8ae3-9e719943531a",
   "metadata": {},
   "outputs": [
    {
     "name": "stdout",
     "output_type": "stream",
     "text": [
      "avgAnnCount                  0\n",
      "avgDeathsPerYear             0\n",
      "incidenceRate                0\n",
      "medIncome                    0\n",
      "povertyPercent               0\n",
      "MedianAgeMale                0\n",
      "MedianAgeFemale              0\n",
      "AvgHouseholdSize             0\n",
      "PercentMarried               0\n",
      "PctNoHS18_24                 0\n",
      "PctHS18_24                   0\n",
      "PctBachDeg18_24              0\n",
      "PctHS25_Over                 0\n",
      "PctBachDeg25_Over            0\n",
      "PctEmployed16_Over         152\n",
      "PctUnemployed16_Over         0\n",
      "PctPrivateCoverage           0\n",
      "PctPrivateCoverageAlone    609\n",
      "PctEmpPrivCoverage           0\n",
      "PctPublicCoverage            0\n",
      "PctPublicCoverageAlone       0\n",
      "PctWhite                     0\n",
      "PctBlack                     0\n",
      "PctAsian                     0\n",
      "PctOtherRace                 0\n",
      "PctMarriedHouseholds         0\n",
      "dtype: int64\n",
      "\n",
      "Cross-Validation Scores: [-0.09958513 -0.06938158 -0.05212413 -0.04968595 -0.07705493 -0.15910058\n",
      " -0.03229779 -0.01025019 -0.01015009 -0.01299324]\n",
      "\n",
      "Average Cross-Validation Score: -0.05726235988352661\n",
      "Mean squared error: 386559.726558287\n",
      "Root Mean Squared Error: 621.7392753866262\n",
      "R-squared score: -0.03198526333092122\n"
     ]
    },
    {
     "data": {
      "image/png": "[encoded data removed]",
      "text/plain": [
       "<Figure size 432x288 with 1 Axes>"
      ]
     },
     "metadata": {
      "needs_background": "light"
     },
     "output_type": "display_data"
    }
   ],
   "source": [
    "import pandas as pd\n",
    "import matplotlib.pyplot as plt\n",
    "from sklearn.svm import SVR\n",
    "from sklearn.model_selection import train_test_split\n",
    "from sklearn.metrics import mean_squared_error, r2_score\n",
    "from sklearn.model_selection import cross_val_score\n",
    "import math\n",
    "\n",
    "# Load data from the CSV file\n",
    "data = pd.read_csv('cancer_reg_updated.csv')\n",
    "\n",
    "# Checking for missing values\n",
    "print(data.isna().sum())\n",
    "\n",
    "# Input missing values with the mean\n",
    "data.fillna(data.mean(), inplace=True)\n",
    "\n",
    "# Separating features and target variable\n",
    "X = data.drop(['avgDeathsPerYear'], axis=1)\n",
    "y = data['avgDeathsPerYear']\n",
    "\n",
    "# Split data into training and testing sets\n",
    "X_train, X_test, y_train, y_test = train_test_split(X, y, test_size=0.3, random_state=42)\n",
    "\n",
    "# Create SVM regressor\n",
    "svm = SVR(kernel='rbf', C=100, gamma=0.1, epsilon=.1)\n",
    "\n",
    "k = 10\n",
    "cv_scores = cross_val_score(svm, X, y, cv=k)\n",
    "\n",
    "# Fit the regressor to the training data\n",
    "svm.fit(X_train, y_train)\n",
    "\n",
    "# Predict the target values for the test data\n",
    "y_pred = svm.predict(X_test)\n",
    "\n",
    "# Output for Cross Validation \n",
    "print(\"\\nCross-Validation Scores:\", cv_scores)\n",
    "print(\"\\nAverage Cross-Validation Score:\", cv_scores.mean())\n",
    "\n",
    "# Outputs for the mean squared error, RMSE, and R-squared score\n",
    "mse = mean_squared_error(y_test, y_pred)\n",
    "rmse = math.sqrt(mse)\n",
    "r2 = r2_score(y_test, y_pred)\n",
    "\n",
    "print(\"Mean squared error:\", mse)\n",
    "print(\"Root Mean Squared Error:\", rmse)\n",
    "print(\"R-squared score:\", r2)\n",
    "\n",
    "# Scatterplot for the predicted vs. actual values\n",
    "plt.scatter(y_test, y_pred, color='blue', label='Predicted')\n",
    "plt.scatter(y_test, y_test, color='orange', label='Actual')\n",
    "plt.xlabel('Actual')\n",
    "plt.ylabel('Predicted')\n",
    "plt.title('Predicted vs. Actual Values')\n",
    "plt.legend()\n",
    "plt.show()\n"
   ]
  },
  {
   "cell_type": "code",
   "execution_count": null,
   "id": "d10d4504-1b91-4438-a654-8388e82c28e4",
   "metadata": {},
   "outputs": [],
   "source": []
  },
  {
   "cell_type": "code",
   "execution_count": null,
   "id": "dcafc5da",
   "metadata": {},
   "outputs": [],
   "source": []
  }
 ],
 "metadata": {
  "kernelspec": {
   "display_name": "Python 3",
   "language": "python",
   "name": "python3"
  },
  "language_info": {
   "codemirror_mode": {
    "name": "ipython",
    "version": 3
   },
   "file_extension": ".py",
   "mimetype": "text/x-python",
   "name": "python",
   "nbconvert_exporter": "python",
   "pygments_lexer": "ipython3",
   "version": "3.8.8"
  }
 },
 "nbformat": 4,
 "nbformat_minor": 5
}
