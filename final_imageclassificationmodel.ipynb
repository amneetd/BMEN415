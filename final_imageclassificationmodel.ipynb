{
 "cells": [
  {
   "cell_type": "code",
   "execution_count": 95,
   "id": "8e2d34d8-dd61-4cf1-9faf-38df5082256f",
   "metadata": {},
   "outputs": [],
   "source": [
    "import os\n",
    "import glob\n",
    "import shutil\n",
    "import random\n",
    "import pandas as pd\n",
    "from PIL import Image\n",
    "import numpy as np\n",
    "import seaborn as sns\n",
    "import matplotlib.pyplot as plt"
   ]
  },
  {
   "cell_type": "code",
   "execution_count": 96,
   "id": "198697ba-1084-49b6-b5cd-88ffbb1abb71",
   "metadata": {},
   "outputs": [
    {
     "name": "stdout",
     "output_type": "stream",
     "text": [
      "n1 done, size  =  2397\n",
      "n2 done, size  =  2418\n",
      "n3 done, size  =  2457\n",
      "y1 done, size  =  1130\n",
      "y2 done, size  =  1163\n",
      "y3 done, size  =  1096\n"
     ]
    },
    {
     "name": "stderr",
     "output_type": "stream",
     "text": [
      "/var/folders/yv/kbb9q2f16z755yyqqbfpb7b00000gn/T/ipykernel_82029/444408357.py:22: FutureWarning: The frame.append method is deprecated and will be removed from pandas in a future version. Use pandas.concat instead.\n",
      "  train_data = (pd.DataFrame({'image': n1+n2+n3, 'label': 'Healthy'})\n"
     ]
    }
   ],
   "source": [
    "# Importing images\n",
    "\n",
    "importing_data = lambda path: [np.array(Image.open(filename).resize((ims1, ims1))).ravel() for filename in glob.glob(path)]\n",
    "\n",
    "# all\n",
    "n1 = importing_data('C-NMC_Leukemia/training_data/fold_0/all/*.bmp')\n",
    "print(\"n1 done, size  = \", len(n1))\n",
    "n2 = importing_data('C-NMC_Leukemia/training_data/fold_1/all/*.bmp')\n",
    "print(\"n2 done, size  = \", len(n2))\n",
    "n3 = importing_data('C-NMC_Leukemia/training_data/fold_2/all/*.bmp')\n",
    "print(\"n3 done, size  = \", len(n3))\n",
    "\n",
    "# hem\n",
    "y1 = importing_data('C-NMC_Leukemia/training_data/fold_0/hem/*.bmp')\n",
    "print(\"y1 done, size  = \", len(y1))\n",
    "y2 = importing_data('C-NMC_Leukemia/training_data/fold_1/hem/*.bmp')\n",
    "print(\"y2 done, size  = \", len(y2))\n",
    "y3 = importing_data('C-NMC_Leukemia/training_data/fold_2/hem/*.bmp')\n",
    "print(\"y3 done, size  = \", len(y3))\n",
    "\n",
    "#combining all data\n",
    "train_data = (pd.DataFrame({'image': n1+n2+n3, 'label': 'Healthy'})\n",
    "             .append(pd.DataFrame({'image': y1+y2+y3, 'label': 'Affected'}),\n",
    "                     ignore_index=True))\n"
   ]
  },
  {
   "cell_type": "code",
   "execution_count": 97,
   "id": "f2fa4ed1-c1b4-49be-949f-ab7f8b26d989",
   "metadata": {},
   "outputs": [
    {
     "name": "stdout",
     "output_type": "stream",
     "text": [
      "0\n"
     ]
    }
   ],
   "source": [
    "# Ignoring images that are oddly shaped to avoid outliers\n",
    "ims1 = 200 #desired image size\n",
    "\n",
    "c = 1\n",
    "igs = []\n",
    "for i in range(len(train_data)):\n",
    "    if(len(train_data.image[i])!=(3*ims1*ims1)):\n",
    "#         print(c,i)\n",
    "        c = c + 1\n",
    "        igs.append(i)\n",
    "# print(igs)\n",
    "print(len(igs))\n",
    "\n",
    "#removing outliers from the data\n",
    "train_data=train_data.drop(igs,axis=0)"
   ]
  },
  {
   "cell_type": "code",
   "execution_count": 98,
   "id": "f63dca34-96c0-4ad3-b063-1f68693f6fde",
   "metadata": {},
   "outputs": [],
   "source": [
    "#seperating image from the labels in train_data\n",
    "x_train = []\n",
    "for tdim in train_data.image:\n",
    "    x_train.append(tdim)\n",
    "y_train = np.array(train_data.label)"
   ]
  },
  {
   "cell_type": "code",
   "execution_count": 99,
   "id": "3999f497-d4cf-4c7f-89d5-4164572fed54",
   "metadata": {},
   "outputs": [
    {
     "name": "stdout",
     "output_type": "stream",
     "text": [
      "10661\n"
     ]
    }
   ],
   "source": [
    "#converting y_train labels to binary\n",
    "y_traind = []\n",
    "for i in range(len(y_train)):\n",
    "    if(y_train[i]==\"Healthy\"):\n",
    "        y_traind.append(0)\n",
    "    else:\n",
    "        y_traind.append(1)\n",
    "print(len(y_traind))\n",
    "\n",
    "# One hot encoding\n",
    "CLASSES = 2\n",
    "y_train = np.zeros([len(y_traind), CLASSES])\n",
    "for i in range(len(y_traind)):\n",
    "        y_train[i][y_traind[i]] = 1"
   ]
  },
  {
   "cell_type": "code",
   "execution_count": 100,
   "id": "e0ea4451-f498-4f5f-ba68-5fa0360b5972",
   "metadata": {},
   "outputs": [],
   "source": [
    "#creating an array from x_train\n",
    "x_traind = np.array(x_train)"
   ]
  },
  {
   "cell_type": "code",
   "execution_count": 102,
   "id": "a06d0610-2124-43b8-baf2-f0609633183d",
   "metadata": {},
   "outputs": [
    {
     "name": "stdout",
     "output_type": "stream",
     "text": [
      "Train size: 9594, Test size: 1067\n",
      "Train size: 9594, Test size: 1067\n"
     ]
    }
   ],
   "source": [
    "# splitting data for testing and training\n",
    "\n",
    "from sklearn.model_selection import train_test_split\n",
    "\n",
    "tts = 0.1 #portion of the data allocated for testing\n",
    "\n",
    "x_train, x_test, y_train, y_test = train_test_split(x_traind, y_train, test_size=tts)\n",
    "\n",
    "print('Train size: {train}, Test size: {test}'.format(train=len(x_train), test=len(x_test)))\n",
    "print('Train size: {train}, Test size: {test}'.format(train=len(y_train), test=len(y_test)))"
   ]
  },
  {
   "cell_type": "code",
   "execution_count": 103,
   "id": "8b6485d4-3c48-49a2-a6da-bc0a5c24597b",
   "metadata": {},
   "outputs": [],
   "source": [
    "# Changing to Matrix format\n",
    "\n",
    "x_train=np.matrix(x_train)\n",
    "x_test=np.matrix(x_test)\n",
    "y_train=np.matrix(y_train)\n",
    "y_test=np.matrix(y_test)"
   ]
  },
  {
   "cell_type": "code",
   "execution_count": 104,
   "id": "878b6d85-4f96-4a2a-9bce-8dd6e13959ec",
   "metadata": {},
   "outputs": [
    {
     "name": "stdout",
     "output_type": "stream",
     "text": [
      "Input Weight shape: (120000, 750)\n"
     ]
    }
   ],
   "source": [
    "# Starting to build Extreme Learning Machine(ELM) model\n",
    "hu = 750\n",
    "\n",
    "INPUT_LENGTH = x_train.shape[1]\n",
    "HIDDEN_UNITS = hu #hidden units\n",
    "\n",
    "Win = np.random.normal(size=[INPUT_LENGTH, HIDDEN_UNITS])\n",
    "Win = np.matrix(Win)\n",
    "print('Input Weight shape: {shape}'.format(shape=Win.shape))"
   ]
  },
  {
   "cell_type": "code",
   "execution_count": 105,
   "id": "ef1dc4f6-8932-49fe-9267-91d0bfe68f05",
   "metadata": {},
   "outputs": [],
   "source": [
    "rel = 1\n",
    "\n",
    "def input_to_hidden(x):\n",
    "    print(\"shape of x:\",x.shape)\n",
    "    print(\"weights shape:\",Win.shape)\n",
    "    a = np.dot(x, Win)\n",
    "    a = np.maximum(a, rel, a) # ReLU activation\n",
    "    return a\n"
   ]
  },
  {
   "cell_type": "code",
   "execution_count": 106,
   "id": "1d02c476-4d0b-4ddc-ae83-247a714f1cf6",
   "metadata": {},
   "outputs": [
    {
     "name": "stdout",
     "output_type": "stream",
     "text": [
      "shape of x: (9594, 120000)\n",
      "weights shape: (120000, 750)\n"
     ]
    }
   ],
   "source": [
    "X = input_to_hidden(x_train)\n",
    "Xt = np.transpose(X)"
   ]
  },
  {
   "cell_type": "code",
   "execution_count": 107,
   "id": "fc9df4d0-293f-4cd2-8177-eafacaf02a67",
   "metadata": {},
   "outputs": [
    {
     "name": "stdout",
     "output_type": "stream",
     "text": [
      "Output weights shape: (750, 2)\n"
     ]
    }
   ],
   "source": [
    "# Moore-Penrose pseudo inverse\n",
    "\n",
    "www1 = np.dot(Xt, X)\n",
    "\n",
    "b = np.identity(len(np.array(www1)))\n",
    "b = np.dot(b,3)\n",
    "\n",
    "www1 = www1 + b\n",
    "ww1 = np.linalg.inv(www1)\n",
    "ww2 = np.dot(Xt, y_train)\n",
    "\n",
    "Wout = np.dot(ww1, ww2)\n",
    "print('Output weights shape: {shape}'.format(shape=Wout.shape))"
   ]
  },
  {
   "cell_type": "code",
   "execution_count": 108,
   "id": "e0e53584-922f-4eed-b025-0aab85b79847",
   "metadata": {},
   "outputs": [],
   "source": [
    "def predict(x):\n",
    "    x = input_to_hidden(x)\n",
    "    y = np.dot(x, Wout)\n",
    "    return y"
   ]
  },
  {
   "cell_type": "code",
   "execution_count": 109,
   "id": "6b7d00bc-3dc6-48b0-bd86-f964ce5946d9",
   "metadata": {},
   "outputs": [
    {
     "name": "stdout",
     "output_type": "stream",
     "text": [
      "shape of x: (1067, 120000)\n",
      "weights shape: (120000, 750)\n",
      "Accuracy: 81.255858\n"
     ]
    }
   ],
   "source": [
    "\n",
    "# Prediction\n",
    "y = predict(x_test)\n",
    "correct = 0\n",
    "total = y.shape[0]\n",
    "for i in range(total):\n",
    "    predicted = np.argmax(y[i])\n",
    "    test = np.argmax(y_test[i])\n",
    "    correct = correct + (1 if predicted == test else 0)\n",
    "print('Accuracy: {:f}'.format(correct*100/total))\n",
    "\n"
   ]
  },
  {
   "cell_type": "code",
   "execution_count": 110,
   "id": "4aecc9c9-b373-4410-b62e-9236f487d087",
   "metadata": {},
   "outputs": [
    {
     "name": "stdout",
     "output_type": "stream",
     "text": [
      "shape of x: (1067, 120000)\n",
      "weights shape: (120000, 750)\n"
     ]
    },
    {
     "data": {
      "image/png": "[encoded data removed]",
      "text/plain": [
       "<Figure size 640x480 with 2 Axes>"
      ]
     },
     "metadata": {},
     "output_type": "display_data"
    }
   ],
   "source": [
    "from sklearn.metrics import confusion_matrix, plot_confusion_matrix\n",
    "import seaborn as sns\n",
    "\n",
    "# Assuming you have already trained and tested your model\n",
    "# Assuming you have already trained and tested your model\n",
    "y_pred = predict(x_test)\n",
    "y_true = y_test.argmax(axis=1) # convert true labels to categorical format\n",
    "cm = confusion_matrix(y_true, y_pred.argmax(axis=1))\n",
    "\n",
    "# Define labels for the confusion matrix\n",
    "labels = ['Healthy', 'Leukemia']\n",
    "\n",
    "# Plot confusion matrix as heatmap with labels\n",
    "sns.heatmap(cm, annot=True, cmap='Blues', xticklabels=labels, yticklabels=labels)\n",
    "\n",
    "# Display confusion matrix with labels \"Healthy\" and \"Leukemia\"\n",
    "plt.title('Confusion Matrix')\n",
    "plt.xlabel('Predicted')\n",
    "plt.ylabel('True')\n",
    "plt.show()"
   ]
  },
  {
   "cell_type": "code",
   "execution_count": 111,
   "id": "06bcd799-0ca0-4dd1-882e-4e22d353e565",
   "metadata": {},
   "outputs": [
    {
     "name": "stdout",
     "output_type": "stream",
     "text": [
      "Fold 10 accuracy: []\n"
     ]
    }
   ],
   "source": []
  },
  {
   "cell_type": "code",
   "execution_count": null,
   "id": "20dc27fa-eb7f-4207-801c-dec040be89fa",
   "metadata": {},
   "outputs": [],
   "source": []
  }
 ],
 "metadata": {
  "kernelspec": {
   "display_name": "Python [conda env:BMEN] *",
   "language": "python",
   "name": "conda-env-BMEN-py"
  },
  "language_info": {
   "codemirror_mode": {
    "name": "ipython",
    "version": 3
   },
   "file_extension": ".py",
   "mimetype": "text/x-python",
   "name": "python",
   "nbconvert_exporter": "python",
   "pygments_lexer": "ipython3",
   "version": "3.8.16"
  }
 },
 "nbformat": 4,
 "nbformat_minor": 5
}
