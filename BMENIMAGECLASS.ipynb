{
 "cells": [
  {
   "cell_type": "code",
   "execution_count": 1,
   "id": "8e2d34d8-dd61-4cf1-9faf-38df5082256f",
   "metadata": {},
   "outputs": [],
   "source": [
    "import os\n",
    "import glob\n",
    "import shutil\n",
    "import random\n",
    "import pandas as pd\n",
    "from PIL import Image\n",
    "import numpy as np\n",
    "import seaborn as sns\n",
    "import matplotlib.pyplot as plt"
   ]
  },
  {
   "cell_type": "code",
   "execution_count": 2,
   "id": "dd1617ee-ec58-4552-89be-52dd2d6373cd",
   "metadata": {},
   "outputs": [],
   "source": [
    "ims1 = 200\n",
    "tts = 0.1\n",
    "hu = 750\n",
    "rel = 1"
   ]
  },
  {
   "cell_type": "code",
   "execution_count": 3,
   "id": "198697ba-1084-49b6-b5cd-88ffbb1abb71",
   "metadata": {},
   "outputs": [
    {
     "name": "stdout",
     "output_type": "stream",
     "text": [
      "n1 done, size  =  2397\n",
      "n2 done, size  =  2418\n",
      "n3 done, size  =  2457\n",
      "y1 done, size  =  1130\n",
      "y2 done, size  =  1163\n",
      "y3 done, size  =  1096\n"
     ]
    }
   ],
   "source": [
    "# Importing images\n",
    "\n",
    "def importing_data(path):\n",
    "    sample = []\n",
    "    for filename in glob.glob(path):\n",
    "        img = Image.open(filename,'r')\n",
    "        img = img.resize((ims1,ims1))\n",
    "        img = np.array(img)\n",
    "        IMG = img.ravel()\n",
    "        sample.append(IMG)\n",
    "    return sample\n",
    "\n",
    "# all\n",
    "path11 = 'C-NMC_Leukemia/training_data/fold_0/all/*.bmp'\n",
    "path21 = 'C-NMC_Leukemia/training_data/fold_1/all/*.bmp'\n",
    "path31 = 'C-NMC_Leukemia/training_data/fold_2/all/*.bmp'\n",
    "\n",
    "# hem\n",
    "path12 = 'C-NMC_Leukemia/training_data/fold_0/hem/*.bmp'\n",
    "path22 = 'C-NMC_Leukemia/training_data/fold_1/hem/*.bmp'\n",
    "path32 = 'C-NMC_Leukemia/training_data/fold_2/hem/*.bmp'\n",
    "\n",
    "n1 = importing_data(path11)\n",
    "print(\"n1 done, size  = \", len(n1))\n",
    "n2 = importing_data(path21)\n",
    "print(\"n2 done, size  = \", len(n2))\n",
    "n3 = importing_data(path31)\n",
    "print(\"n3 done, size  = \", len(n3))\n",
    "\n",
    "y1 = importing_data(path12)\n",
    "print(\"y1 done, size  = \", len(y1))\n",
    "y2 = importing_data(path22)\n",
    "print(\"y2 done, size  = \", len(y2))\n",
    "y3 = importing_data(path32)\n",
    "print(\"y3 done, size  = \", len(y3))\n",
    "\n",
    "train_n = []\n",
    "train_y = []\n",
    "\n",
    "for i in n1:\n",
    "    train_n.append(i)\n",
    "for i in n2:\n",
    "    train_n.append(i)\n",
    "for i in n3:\n",
    "    train_n.append(i)\n",
    "\n",
    "for i in y1:\n",
    "    train_y.append(i)\n",
    "for i in y2:\n",
    "    train_y.append(i)\n",
    "for i in y3:\n",
    "    train_y.append(i)"
   ]
  },
  {
   "cell_type": "code",
   "execution_count": 4,
   "id": "f6429078-d13c-4cc2-a0dc-f36afc7480f2",
   "metadata": {},
   "outputs": [],
   "source": [
    "df_train_n = pd.DataFrame({'image':train_n, 'label': 'Healthy'})\n",
    "df_train_y = pd.DataFrame({'image':train_y, 'label': 'Affected'})"
   ]
  },
  {
   "cell_type": "code",
   "execution_count": 5,
   "id": "bdc0e728-dd4c-4dc5-a8ea-c469b99f6f2b",
   "metadata": {},
   "outputs": [
    {
     "name": "stderr",
     "output_type": "stream",
     "text": [
      "/var/folders/yv/kbb9q2f16z755yyqqbfpb7b00000gn/T/ipykernel_61085/2440137039.py:2: FutureWarning: The frame.append method is deprecated and will be removed from pandas in a future version. Use pandas.concat instead.\n",
      "  train_data = df_train_n.append(df_train_y,ignore_index=True)\n"
     ]
    }
   ],
   "source": [
    "# Combining the data\n",
    "train_data = df_train_n.append(df_train_y,ignore_index=True)"
   ]
  },
  {
   "cell_type": "code",
   "execution_count": 6,
   "id": "f2fa4ed1-c1b4-49be-949f-ab7f8b26d989",
   "metadata": {},
   "outputs": [
    {
     "name": "stdout",
     "output_type": "stream",
     "text": [
      "0\n"
     ]
    }
   ],
   "source": [
    "# Ignoring images that are oddly shaped to avoid outliers\n",
    "c = 1\n",
    "igs = []\n",
    "for i in range(len(train_data)):\n",
    "    if(len(train_data.image[i])!=(3*ims1*ims1)):\n",
    "#         print(c,i)\n",
    "        c = c + 1\n",
    "        igs.append(i)\n",
    "# print(igs)\n",
    "print(len(igs))"
   ]
  },
  {
   "cell_type": "code",
   "execution_count": 7,
   "id": "dfeb7369-0660-42a8-a9e4-84a3f29771c1",
   "metadata": {},
   "outputs": [],
   "source": [
    "train_data=train_data.drop(igs,axis=0)"
   ]
  },
  {
   "cell_type": "code",
   "execution_count": 8,
   "id": "f63dca34-96c0-4ad3-b063-1f68693f6fde",
   "metadata": {},
   "outputs": [],
   "source": [
    "x_train = []\n",
    "for tdim in train_data.image:\n",
    "    x_train.append(tdim)\n",
    "y_train = np.array(train_data.label)"
   ]
  },
  {
   "cell_type": "code",
   "execution_count": 9,
   "id": "3999f497-d4cf-4c7f-89d5-4164572fed54",
   "metadata": {},
   "outputs": [
    {
     "name": "stdout",
     "output_type": "stream",
     "text": [
      "10661\n"
     ]
    }
   ],
   "source": [
    "y_traind = []\n",
    "for i in range(len(y_train)):\n",
    "    if(y_train[i]==\"Healthy\"):\n",
    "        y_traind.append(0)\n",
    "    else:\n",
    "        y_traind.append(1)\n",
    "print(len(y_traind))"
   ]
  },
  {
   "cell_type": "code",
   "execution_count": 10,
   "id": "e0ea4451-f498-4f5f-ba68-5fa0360b5972",
   "metadata": {},
   "outputs": [],
   "source": [
    "x_traind = np.array(x_train)"
   ]
  },
  {
   "cell_type": "code",
   "execution_count": 11,
   "id": "ce294bce-e05f-4078-a95a-d6011766ec45",
   "metadata": {},
   "outputs": [],
   "source": [
    "# One hot encoding\n",
    "CLASSES = 2\n",
    "y_train = np.zeros([len(y_traind), CLASSES])\n",
    "for i in range(len(y_traind)):\n",
    "        y_train[i][y_traind[i]] = 1"
   ]
  },
  {
   "cell_type": "code",
   "execution_count": 12,
   "id": "a06d0610-2124-43b8-baf2-f0609633183d",
   "metadata": {},
   "outputs": [
    {
     "name": "stdout",
     "output_type": "stream",
     "text": [
      "Train size: 9594, Test size: 1067\n"
     ]
    }
   ],
   "source": [
    "# Test train splitting\n",
    "from sklearn.model_selection import train_test_split\n",
    "\n",
    "x_train, x_test, y_train, y_test = train_test_split(x_traind, y_train, test_size=tts)\n",
    "print('Train size: {train}, Test size: {test}'.format(train=len(x_train), test=len(x_test)))"
   ]
  },
  {
   "cell_type": "code",
   "execution_count": 13,
   "id": "8b6485d4-3c48-49a2-a6da-bc0a5c24597b",
   "metadata": {},
   "outputs": [],
   "source": [
    "# Changing to Matrix format\n",
    "x_train=np.matrix(x_train)\n",
    "x_test=np.matrix(x_test)\n",
    "y_train=np.matrix(y_train)\n",
    "y_test=np.matrix(y_test)"
   ]
  },
  {
   "cell_type": "code",
   "execution_count": 14,
   "id": "878b6d85-4f96-4a2a-9bce-8dd6e13959ec",
   "metadata": {},
   "outputs": [
    {
     "name": "stdout",
     "output_type": "stream",
     "text": [
      "Input Weight shape: (120000, 750)\n"
     ]
    }
   ],
   "source": [
    "# Starting to build ELM model\n",
    "INPUT_LENGTH = x_train.shape[1]\n",
    "HIDDEN_UNITS = hu #hidden units\n",
    "\n",
    "Win = np.random.normal(size=[INPUT_LENGTH, HIDDEN_UNITS])\n",
    "Win = np.matrix(Win)\n",
    "print('Input Weight shape: {shape}'.format(shape=Win.shape))"
   ]
  },
  {
   "cell_type": "code",
   "execution_count": 15,
   "id": "ef1dc4f6-8932-49fe-9267-91d0bfe68f05",
   "metadata": {},
   "outputs": [],
   "source": [
    "def input_to_hidden(x):\n",
    "    print(\"shape of x:\",x.shape)\n",
    "    print(\"weights shape:\",Win.shape)\n",
    "    a = np.dot(x, Win)\n",
    "    a = np.maximum(a, rel, a) # ReLU activation\n",
    "    return a"
   ]
  },
  {
   "cell_type": "code",
   "execution_count": 16,
   "id": "1d02c476-4d0b-4ddc-ae83-247a714f1cf6",
   "metadata": {},
   "outputs": [
    {
     "name": "stdout",
     "output_type": "stream",
     "text": [
      "shape of x: (9594, 120000)\n",
      "weights shape: (120000, 750)\n"
     ]
    }
   ],
   "source": [
    "X = input_to_hidden(x_train)\n",
    "Xt = np.transpose(X)"
   ]
  },
  {
   "cell_type": "code",
   "execution_count": 17,
   "id": "fc9df4d0-293f-4cd2-8177-eafacaf02a67",
   "metadata": {},
   "outputs": [
    {
     "name": "stdout",
     "output_type": "stream",
     "text": [
      "Output weights shape: (750, 2)\n"
     ]
    }
   ],
   "source": [
    "# Moore-Penrose pseudo inverse\n",
    "\n",
    "www1 = np.dot(Xt, X)\n",
    "\n",
    "b = np.identity(len(np.array(www1)))\n",
    "b = np.dot(b,3)\n",
    "\n",
    "www1 = www1 + b\n",
    "ww1 = np.linalg.inv(www1)\n",
    "ww2 = np.dot(Xt, y_train)\n",
    "\n",
    "Wout = np.dot(ww1, ww2)\n",
    "print('Output weights shape: {shape}'.format(shape=Wout.shape))"
   ]
  },
  {
   "cell_type": "code",
   "execution_count": 18,
   "id": "e0e53584-922f-4eed-b025-0aab85b79847",
   "metadata": {},
   "outputs": [],
   "source": [
    "def predict(x):\n",
    "    x = input_to_hidden(x)\n",
    "    y = np.dot(x, Wout)\n",
    "    return y"
   ]
  },
  {
   "cell_type": "code",
   "execution_count": 19,
   "id": "6b7d00bc-3dc6-48b0-bd86-f964ce5946d9",
   "metadata": {},
   "outputs": [
    {
     "name": "stdout",
     "output_type": "stream",
     "text": [
      "shape of x: (1067, 120000)\n",
      "weights shape: (120000, 750)\n",
      "Accuracy: 81.162137\n"
     ]
    }
   ],
   "source": [
    "# Prediction\n",
    "y = predict(x_test)\n",
    "correct = 0\n",
    "total = y.shape[0]\n",
    "for i in range(total):\n",
    "    predicted = np.argmax(y[i])\n",
    "    test = np.argmax(y_test[i])\n",
    "    correct = correct + (1 if predicted == test else 0)\n",
    "print('Accuracy: {:f}'.format(correct*100/total))"
   ]
  },
  {
   "cell_type": "code",
   "execution_count": 33,
   "id": "4aecc9c9-b373-4410-b62e-9236f487d087",
   "metadata": {},
   "outputs": [
    {
     "name": "stdout",
     "output_type": "stream",
     "text": [
      "shape of x: (1067, 120000)\n",
      "weights shape: (120000, 750)\n"
     ]
    },
    {
     "data": {
      "text/plain": [
       "<Axes: >"
      ]
     },
     "execution_count": 33,
     "metadata": {},
     "output_type": "execute_result"
    },
    {
     "data": {
      "image/png": "[encoded data removed]",
      "text/plain": [
       "<Figure size 640x480 with 2 Axes>"
      ]
     },
     "metadata": {},
     "output_type": "display_data"
    }
   ],
   "source": [
    "from sklearn.metrics import confusion_matrix\n",
    "import seaborn as sns\n",
    "\n",
    "# Assuming you have already trained and tested your model\n",
    "y_pred = predict(x_test)\n",
    "y_true = y_test.argmax(axis=1) # convert true labels to categorical format\n",
    "cm = confusion_matrix(y_true, y_pred.argmax(axis=1))\n",
    "\n",
    "# Plot confusion matrix as heatmap\n",
    "sns.heatmap(cm, annot=True, cmap='Blues')\n",
    "\n"
   ]
  },
  {
   "cell_type": "code",
   "execution_count": 27,
   "id": "9aafc063-bf92-42ee-926d-3ac32001b4bd",
   "metadata": {},
   "outputs": [
    {
     "name": "stdout",
     "output_type": "stream",
     "text": [
      "Epoch 1/10\n",
      "300/300 [==============================] - 4s 12ms/step - loss: 5.4378 - accuracy: 0.6843 - val_loss: 0.6427 - val_accuracy: 0.6795\n",
      "Epoch 2/10\n",
      "300/300 [==============================] - 3s 10ms/step - loss: 0.6326 - accuracy: 0.6824 - val_loss: 0.6292 - val_accuracy: 0.6795\n",
      "Epoch 3/10\n",
      "300/300 [==============================] - 3s 9ms/step - loss: 0.6260 - accuracy: 0.6824 - val_loss: 0.6274 - val_accuracy: 0.6795\n",
      "Epoch 4/10\n",
      "300/300 [==============================] - 3s 10ms/step - loss: 0.6251 - accuracy: 0.6824 - val_loss: 0.6273 - val_accuracy: 0.6795\n",
      "Epoch 5/10\n",
      "300/300 [==============================] - 3s 10ms/step - loss: 0.6251 - accuracy: 0.6824 - val_loss: 0.6273 - val_accuracy: 0.6795\n",
      "Epoch 6/10\n",
      "300/300 [==============================] - 3s 10ms/step - loss: 0.6250 - accuracy: 0.6824 - val_loss: 0.6273 - val_accuracy: 0.6795\n",
      "Epoch 7/10\n",
      "300/300 [==============================] - 3s 11ms/step - loss: 0.6250 - accuracy: 0.6824 - val_loss: 0.6273 - val_accuracy: 0.6795\n",
      "Epoch 8/10\n",
      "300/300 [==============================] - 3s 11ms/step - loss: 0.6251 - accuracy: 0.6824 - val_loss: 0.6273 - val_accuracy: 0.6795\n",
      "Epoch 9/10\n",
      "300/300 [==============================] - 3s 11ms/step - loss: 0.6251 - accuracy: 0.6824 - val_loss: 0.6273 - val_accuracy: 0.6795\n",
      "Epoch 10/10\n",
      "300/300 [==============================] - 3s 10ms/step - loss: 0.6250 - accuracy: 0.6824 - val_loss: 0.6273 - val_accuracy: 0.6795\n"
     ]
    },
    {
     "data": {
      "text/plain": [
       "<keras.callbacks.History at 0x3149e29d0>"
      ]
     },
     "execution_count": 27,
     "metadata": {},
     "output_type": "execute_result"
    }
   ],
   "source": [
    "#IGNOR THIS BLOCK\n",
    "\n",
    "from tensorflow import keras\n",
    "\n",
    "# Define a simple model\n",
    "model = keras.Sequential([\n",
    "    keras.layers.Dense(10, input_shape=(120000,), activation='relu'),\n",
    "    keras.layers.Dense(2, activation='softmax')\n",
    "])\n",
    "\n",
    "# Compile the model\n",
    "model.compile(optimizer='adam', loss='categorical_crossentropy', metrics=['accuracy'])\n",
    "\n",
    "# Train the model on some data\n",
    "model.fit(x_train, y_train, epochs=10, validation_data=(x_test, y_test))\n"
   ]
  },
  {
   "cell_type": "code",
   "execution_count": 35,
   "id": "0ba1e682-9523-40ed-a9b5-3e5170d121ae",
   "metadata": {},
   "outputs": [
    {
     "name": "stdout",
     "output_type": "stream",
     "text": [
      "34/34 [==============================] - 0s 4ms/step\n"
     ]
    },
    {
     "data": {
      "text/plain": [
       "<Axes: >"
      ]
     },
     "execution_count": 35,
     "metadata": {},
     "output_type": "execute_result"
    },
    {
     "data": {
      "image/png": "[encoded data removed]",
      "text/plain": [
       "<Figure size 640x480 with 2 Axes>"
      ]
     },
     "metadata": {},
     "output_type": "display_data"
    }
   ],
   "source": [
    "#IGNOR THIS BLOCK\n",
    "\n",
    "from sklearn.metrics import confusion_matrix\n",
    "import seaborn as sns\n",
    "\n",
    "# Assuming you have already trained and tested your model\n",
    "y_pred = model.predict(x_test)\n",
    "y_true = y_test.argmax(axis=1) # convert true labels to categorical format\n",
    "cm = confusion_matrix(y_true, y_pred.argmax(axis=1))\n",
    "\n",
    "# Plot confusion matrix as heatmap\n",
    "sns.heatmap(cm, annot=True, cmap='Blues')\n"
   ]
  },
  {
   "cell_type": "code",
   "execution_count": null,
   "id": "06bcd799-0ca0-4dd1-882e-4e22d353e565",
   "metadata": {},
   "outputs": [],
   "source": []
  }
 ],
 "metadata": {
  "kernelspec": {
   "display_name": "Python [conda env:BMEN] *",
   "language": "python",
   "name": "conda-env-BMEN-py"
  },
  "language_info": {
   "codemirror_mode": {
    "name": "ipython",
    "version": 3
   },
   "file_extension": ".py",
   "mimetype": "text/x-python",
   "name": "python",
   "nbconvert_exporter": "python",
   "pygments_lexer": "ipython3",
   "version": "3.8.16"
  }
 },
 "nbformat": 4,
 "nbformat_minor": 5
}
